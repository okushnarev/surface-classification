{
 "cells": [
  {
   "cell_type": "code",
   "execution_count": 117,
   "metadata": {
    "collapsed": true
   },
   "outputs": [],
   "source": [
    "import pandas as pd\n",
    "import numpy as np\n",
    "import matplotlib\n",
    "import matplotlib.pyplot as plt\n",
    "import seaborn as sns\n",
    "import datetime as dt\n",
    "from pathlib import Path"
   ]
  },
  {
   "cell_type": "code",
   "execution_count": 118,
   "outputs": [],
   "source": [
    "sheet = pd.read_csv(\"data/raw/grey.csv\", sep=';')\n"
   ],
   "metadata": {
    "collapsed": false
   }
  },
  {
   "cell_type": "code",
   "execution_count": 119,
   "outputs": [
    {
     "name": "stdout",
     "output_type": "stream",
     "text": [
      "<class 'pandas.core.frame.DataFrame'>\n",
      "RangeIndex: 753 entries, 0 to 752\n",
      "Data columns (total 32 columns):\n",
      " #   Column                  Non-Null Count  Dtype  \n",
      "---  ------                  --------------  -----  \n",
      " 0   Time_Ms                 753 non-null    float64\n",
      " 1   X_axis_speed_mm_s       753 non-null    int64  \n",
      " 2   Y_axis_speed_mm_s       753 non-null    int64  \n",
      " 3   Rotational_speed_deg_s  753 non-null    int64  \n",
      " 4   Motor_1_encoder_ticks   753 non-null    float64\n",
      " 5   Motor_2_encoder_ticks   753 non-null    float64\n",
      " 6   Motor_3_encoder_ticks   753 non-null    float64\n",
      " 7   Motor_1_set_rpm         753 non-null    float64\n",
      " 8   Motor_2_set_rpm         753 non-null    float64\n",
      " 9   Motor_3_set_rpm         753 non-null    float64\n",
      " 10  Motor_1_velocity_rpm    753 non-null    float64\n",
      " 11  Motor_2_velocity_rpm    753 non-null    float64\n",
      " 12  Motor_3_velocity_rpm    753 non-null    float64\n",
      " 13  Motor_1_current_A       753 non-null    float64\n",
      " 14  Motor_2_current_A       753 non-null    float64\n",
      " 15  Motor_3_current_A       753 non-null    float64\n",
      " 16  Sum_motor_current_A     753 non-null    float64\n",
      " 17  Current_X_A             753 non-null    float64\n",
      " 18  Current_Y_A             753 non-null    float64\n",
      " 19  Current_Z_A             753 non-null    float64\n",
      " 20  X_coordinate_pixels     753 non-null    float64\n",
      " 21  Y_coordinate_pixels     753 non-null    float64\n",
      " 22  Angle_deg               753 non-null    float64\n",
      " 23  Delta_X_mm              753 non-null    float64\n",
      " 24  Delta_Y_mm              753 non-null    float64\n",
      " 25  Delta_angle_deg         753 non-null    float64\n",
      " 26  Motor_1_voltage_V       753 non-null    float64\n",
      " 27  Motor_2_voltage_V       753 non-null    float64\n",
      " 28  Motor_3_voltage_V       753 non-null    float64\n",
      " 29  Motor_1_moment_Nm       753 non-null    float64\n",
      " 30  Motor_2_moment_Nm       753 non-null    float64\n",
      " 31  Motor_3_moment_Nm       753 non-null    float64\n",
      "dtypes: float64(29), int64(3)\n",
      "memory usage: 188.4 KB\n",
      "None\n"
     ]
    }
   ],
   "source": [
    "print(sheet.info())"
   ],
   "metadata": {
    "collapsed": false
   }
  },
  {
   "cell_type": "code",
   "execution_count": 120,
   "outputs": [
    {
     "name": "stdout",
     "output_type": "stream",
     "text": [
      "['Time_Ms', 'X_axis_speed_mm_s', 'Y_axis_speed_mm_s', 'Rotational_speed_deg_s', 'Motor_1_encoder_ticks', 'Motor_2_encoder_ticks', 'Motor_3_encoder_ticks', 'Motor_1_set_rpm', 'Motor_2_set_rpm', 'Motor_3_set_rpm', 'Motor_1_velocity_rpm', 'Motor_2_velocity_rpm', 'Motor_3_velocity_rpm', 'Motor_1_current_A', 'Motor_2_current_A', 'Motor_3_current_A', 'Sum_motor_current_A', 'Current_X_A', 'Current_Y_A', 'Current_Z_A', 'X_coordinate_pixels', 'Y_coordinate_pixels', 'Angle_deg', 'Delta_X_mm', 'Delta_Y_mm', 'Delta_angle_deg', 'Motor_1_voltage_V', 'Motor_2_voltage_V', 'Motor_3_voltage_V', 'Motor_1_moment_Nm', 'Motor_2_moment_Nm', 'Motor_3_moment_Nm']\n",
      "32\n"
     ]
    }
   ],
   "source": [
    "print(list(sheet.columns.values))\n",
    "print(len(list(sheet.columns.values)))\n"
   ],
   "metadata": {
    "collapsed": false
   }
  },
  {
   "cell_type": "code",
   "execution_count": 121,
   "outputs": [
    {
     "name": "stdout",
     "output_type": "stream",
     "text": [
      "['Time_Ms', 'xsetspeed', 'ysetspeed', 'Rotational_speed_deg_s', 'Motor_1_encoder_ticks', 'Motor_2_encoder_ticks', 'Motor_3_encoder_ticks', 'Motor_1_set_rpm', 'Motor_2_set_rpm', 'Motor_3_set_rpm', 'm1vel', 'm2vel', 'm3vel', 'm1cur', 'm2cur', 'm3cur', 'sum_motor_current', 'xcur', 'ycur', 'rotcur', 'X_coordinate_pixels', 'Y_coordinate_pixels', 'Angle_deg', 'Delta_X_mm', 'Delta_Y_mm', 'Delta_angle_deg', 'Motor_1_voltage_V', 'Motor_2_voltage_V', 'Motor_3_voltage_V', 'Motor_1_moment_Nm', 'Motor_2_moment_Nm', 'Motor_3_moment_Nm']\n",
      "32\n"
     ]
    }
   ],
   "source": [
    "old_names = ['X_axis_speed_mm_s', 'Y_axis_speed_mm_s', 'Motor_1_current_A', 'Motor_2_current_A',\n",
    "                 'Motor_3_current_A', 'Current_X_A', 'Current_Y_A', 'Current_Z_A', 'Sum_motor_current_A',\n",
    "                 'Motor_1_velocity_rpm', 'Motor_2_velocity_rpm', 'Motor_3_velocity_rpm']\n",
    "new_names = ['xsetspeed', 'ysetspeed', 'm1cur', 'm2cur',\n",
    "             'm3cur', 'xcur', 'ycur', 'rotcur', 'sum_motor_current',\n",
    "             'm1vel', 'm2vel', 'm3vel']\n",
    "\n",
    "name_dict = dict(zip(old_names, new_names))\n",
    "\n",
    "sheet = sheet.rename(columns=name_dict)\n",
    "\n",
    "print(list(sheet.columns.values))\n",
    "print(len(list(sheet.columns.values)))"
   ],
   "metadata": {
    "collapsed": false
   }
  },
  {
   "cell_type": "code",
   "execution_count": 121,
   "outputs": [],
   "source": [],
   "metadata": {
    "collapsed": false
   }
  },
  {
   "cell_type": "code",
   "execution_count": 121,
   "outputs": [],
   "source": [],
   "metadata": {
    "collapsed": false
   }
  },
  {
   "cell_type": "code",
   "execution_count": 121,
   "outputs": [],
   "source": [],
   "metadata": {
    "collapsed": false
   }
  }
 ],
 "metadata": {
  "kernelspec": {
   "display_name": "Python 3",
   "language": "python",
   "name": "python3"
  },
  "language_info": {
   "codemirror_mode": {
    "name": "ipython",
    "version": 2
   },
   "file_extension": ".py",
   "mimetype": "text/x-python",
   "name": "python",
   "nbconvert_exporter": "python",
   "pygments_lexer": "ipython2",
   "version": "2.7.6"
  }
 },
 "nbformat": 4,
 "nbformat_minor": 0
}
